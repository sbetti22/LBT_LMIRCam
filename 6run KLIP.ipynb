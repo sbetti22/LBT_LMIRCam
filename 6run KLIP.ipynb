{
 "cells": [
  {
   "cell_type": "markdown",
   "metadata": {},
   "source": [
    "# RUN KLIP for each band\n",
    "\n",
    "written by: Sarah Betti - May 2020"
   ]
  },
  {
   "cell_type": "code",
   "execution_count": 15,
   "metadata": {},
   "outputs": [
    {
     "name": "stdout",
     "output_type": "stream",
     "text": [
      "The autoreload extension is already loaded. To reload it, use:\n",
      "  %reload_ext autoreload\n"
     ]
    }
   ],
   "source": [
    "import pyklip.rdi as rdi\n",
    "import pyklip.parallelized as parallelized\n",
    "import pyklip.instruments.LMIRCam as LMIRCam\n",
    "\n",
    "import astropy.io.fits as fits\n",
    "\n",
    "import glob\n",
    "import pickle\n",
    "import time\n",
    "import datetime\n",
    "\n",
    "import numpy as np\n",
    "import matplotlib.pyplot as plt\n"
   ]
  },
  {
   "cell_type": "code",
   "execution_count": null,
   "metadata": {},
   "outputs": [],
   "source": [
    "from KLIPmodule import *\n",
    "\n",
    "%load_ext autoreload\n",
    "%autoreload 2"
   ]
  },
  {
   "cell_type": "markdown",
   "metadata": {},
   "source": [
    "# K band AB Aur"
   ]
  },
  {
   "cell_type": "code",
   "execution_count": 3,
   "metadata": {},
   "outputs": [
    {
     "name": "stdout",
     "output_type": "stream",
     "text": [
      "started at: 09:59:41.199719\n",
      "250 250\n",
      "starting Kshort\n",
      "starting to make array [ 1440 250 250 ]\n",
      "finished for loop. starting PSFLibrary\n",
      "[124.5 124.5]\n",
      "finished PSFLibrary.saving...\n",
      "10.101886145273845  min\n",
      "1440\n",
      "starting pyKLIP on AB-Aur Kshort\n",
      "making PSF library\n",
      "making dataset\n",
      "reading data, num files:  960\n"
     ]
    },
    {
     "name": "stderr",
     "output_type": "stream",
     "text": [
      "/Users/sbetti/pyklip/pyklip/instruments/LMIRCam.py:478: RuntimeWarning: cdelt will be ignored since cd is present\n",
      "  w.wcs.cdelt = np.array([header['CDELT1'], header['CDELT2']])\n"
     ]
    },
    {
     "name": "stdout",
     "output_type": "stream",
     "text": [
      "The input datacubes are stored in a 3-D array with a shape of (960, 250, 250). The temporal and spatial dimentions have been collapsed\n",
      "preparing PSF library with dataset\n",
      "starting KLIP\n",
      "output will save to /Users/sbetti/Desktop/final_abaur/Kshort/pyklip_Kshort_k150a1s1m1_CC_alignedcenter_IWA0_nohip24447\n",
      "Begin align and scale images for each wavelength\n",
      "Wavelength 2.16 with index 0 has finished align and scale. Queuing for KLIP\n",
      "Total number of tasks for KLIP processing is 1\n",
      "Closing threadpool\n",
      "Derotating Images...\n",
      "Writing Images to directory /Users/sbetti/Desktop/final_abaur/Kshort\n",
      "wavelength collapsing reduced data of shape (b, N, wv, y, x):(7, 960, 1, 250, 250)\n"
     ]
    },
    {
     "name": "stderr",
     "output_type": "stream",
     "text": [
      "/Users/sbetti/opt/anaconda3/lib/python3.7/site-packages/numpy/lib/nanfunctions.py:995: RuntimeWarning: All-NaN slice encountered\n",
      "  result = np.apply_along_axis(_nanmedian1d, axis, a, overwrite_input)\n",
      "/Users/sbetti/pyklip/pyklip/klip.py:47: RuntimeWarning: Mean of empty slice\n",
      "  return np.nanmean(data, axis=axis)\n"
     ]
    },
    {
     "name": "stdout",
     "output_type": "stream",
     "text": [
      "KLIP finished\n",
      "finished:   5.514342828591665 min\n"
     ]
    }
   ],
   "source": [
    "# K band\n",
    "path = '/Volumes/ARCTURUS/LMIRCam_Jan15'\n",
    "\n",
    "# make correlation matrix\n",
    "filt = 'Kshort'\n",
    "# GET ALL FILES! \n",
    "fils = np.sort(glob.glob(path + f'/6aligned2x2/*/{filt}/single_CC/Final*.fits'))\n",
    "\n",
    "savedir = f'/Users/sbetti/Desktop/final_abaur/{filt}/'\n",
    "save_suffix = 'CC'\n",
    "\n",
    "# make the correlation matrix.  After the first time, this line can be commented out. \n",
    "make_correlation_matrix(fils, filt, savedir, save_suffix=save_suffix)\n",
    "\n",
    "\n",
    "# KLIP\n",
    "# get the correlation matrix\n",
    "corrmatrixfil = f'{savedir}corr_matrix_{filt}_{save_suffix}.fits'\n",
    "outputdir = f'/Users/sbetti/Desktop/final_abaur/{filt}/'\n",
    "datasetfil = None\n",
    "annuli = 1\n",
    "subsection = 1\n",
    "filesuffix = f'CC_IWA0'\n",
    "targetlist = np.sort(glob.glob(path + f'/6aligned2x2/AB-Aur/{filt}/single_CC/Final*.fits'))\n",
    "\n",
    "IWA = 0\n",
    "\n",
    "print(len(fils))\n",
    "\n",
    "run_KLIP(fils, filt, corrmatrixfil, outputdir, datasetfil=datasetfil, annuli=annuli, subsection=subsection, \n",
    "        filesuffix=filesuffix, targetlist=targetlist, IWA=IWA, mode='RDI')\n",
    "\n"
   ]
  },
  {
   "cell_type": "markdown",
   "metadata": {},
   "source": [
    "# L band"
   ]
  },
  {
   "cell_type": "code",
   "execution_count": 6,
   "metadata": {},
   "outputs": [
    {
     "name": "stdout",
     "output_type": "stream",
     "text": [
      "13601\n",
      "starting pyKLIP on AB-Aur Lprime\n",
      "making PSF library\n",
      "making dataset\n",
      "reading data, num files:  9178\n"
     ]
    },
    {
     "name": "stderr",
     "output_type": "stream",
     "text": [
      "/Users/sbetti/pyklip/pyklip/instruments/LMIRCam.py:478: RuntimeWarning: cdelt will be ignored since cd is present\n",
      "  w.wcs.cdelt = np.array([header['CDELT1'], header['CDELT2']])\n"
     ]
    },
    {
     "name": "stdout",
     "output_type": "stream",
     "text": [
      "The input datacubes are stored in a 3-D array with a shape of (9178, 250, 250). The temporal and spatial dimentions have been collapsed\n",
      "preparing PSF library with dataset\n",
      "starting KLIP\n",
      "output will save to /Users/sbetti/Desktop/final_abaur/Lprime/pyklip_Lprime_k150a1s1m1_CC_alignedcenter_IWA0\n",
      "Begin align and scale images for each wavelength\n",
      "Wavelength 3.05 with index 0 has finished align and scale. Queuing for KLIP\n",
      "Total number of tasks for KLIP processing is 1\n",
      "Closing threadpool\n",
      "Derotating Images...\n",
      "Writing Images to directory /Users/sbetti/Desktop/final_abaur/Lprime\n",
      "wavelength collapsing reduced data of shape (b, N, wv, y, x):(7, 9178, 1, 250, 250)\n"
     ]
    },
    {
     "name": "stderr",
     "output_type": "stream",
     "text": [
      "/Users/sbetti/opt/anaconda3/lib/python3.7/site-packages/numpy/lib/nanfunctions.py:995: RuntimeWarning: All-NaN slice encountered\n",
      "  result = np.apply_along_axis(_nanmedian1d, axis, a, overwrite_input)\n",
      "/Users/sbetti/pyklip/pyklip/klip.py:47: RuntimeWarning: Mean of empty slice\n",
      "  return np.nanmean(data, axis=axis)\n"
     ]
    },
    {
     "name": "stdout",
     "output_type": "stream",
     "text": [
      "KLIP finished\n",
      "finished:   60.878068502744036 min\n"
     ]
    }
   ],
   "source": [
    "# Lprime band\n",
    "path = '/Users/sbetti/Documents/dissertation_datasets/LMIRCam_Feb13/140213'\n",
    "\n",
    "# make correlation matrix\n",
    "filt = 'Lprime'\n",
    "fils = np.sort(glob.glob(path + f'/6aligned2x2/*/{filt}/single_CC/Final*.fits'))\n",
    "\n",
    "savedir = f'/Users/sbetti/Desktop/final_abaur/{filt}/'\n",
    "save_suffix = 'CC'\n",
    "\n",
    "# make the correlation matrix.  After the first time, this line can be commented out. \n",
    "make_correlation_matrix(fils, filt, savedir, save_suffix=save_suffix)\n",
    "\n",
    "\n",
    "# KLIP\n",
    "corrmatrixfil = f'{savedir}corr_matrix_{filt}_{save_suffix}.fits'\n",
    "outputdir = f'/Users/sbetti/Desktop/final_abaur/{filt}/'\n",
    "datasetfil = None\n",
    "annuli = 1\n",
    "subsection = 1\n",
    "filesuffix = f'CC_IWA0'\n",
    "targetlist = np.sort(glob.glob(path + f'/6aligned2x2/AB-Aur/{filt}/single_CC/Final*.fits'))\n",
    "\n",
    "IWA = 0 \n",
    "\n",
    "print(len(fils))\n",
    "\n",
    "run_KLIP(fils, filt, corrmatrixfil, outputdir, datasetfil=datasetfil, annuli=annuli, subsection=subsection, \n",
    "        filesuffix=filesuffix, targetlist=targetlist, IWA=IWA, mode='RDI')\n"
   ]
  },
  {
   "cell_type": "markdown",
   "metadata": {},
   "source": [
    "---"
   ]
  },
  {
   "cell_type": "markdown",
   "metadata": {},
   "source": [
    "# PSF - PSF \n",
    "\n",
    "for noise estimates"
   ]
  },
  {
   "cell_type": "markdown",
   "metadata": {},
   "source": [
    "# K band PSF"
   ]
  },
  {
   "cell_type": "code",
   "execution_count": 7,
   "metadata": {},
   "outputs": [
    {
     "name": "stdout",
     "output_type": "stream",
     "text": [
      "960\n",
      "starting pyKLIP on AB-Aur Kshort\n",
      "making PSF library\n",
      "making dataset\n",
      "reading data, num files:  240\n"
     ]
    },
    {
     "name": "stderr",
     "output_type": "stream",
     "text": [
      "/Users/sbetti/pyklip/pyklip/instruments/LMIRCam.py:478: RuntimeWarning: cdelt will be ignored since cd is present\n",
      "  w.wcs.cdelt = np.array([header['CDELT1'], header['CDELT2']])\n"
     ]
    },
    {
     "name": "stdout",
     "output_type": "stream",
     "text": [
      "The input datacubes are stored in a 3-D array with a shape of (240, 250, 250). The temporal and spatial dimentions have been collapsed\n",
      "preparing PSF library with dataset\n",
      "starting KLIP\n",
      "output will save to /Users/sbetti/Desktop/final_abaur/Kshort/pyklip_Kshort_k150a1s1m1_SS_alignedcenter_HIP24447_masked_test\n",
      "Begin align and scale images for each wavelength\n",
      "Wavelength 2.16 with index 0 has finished align and scale. Queuing for KLIP\n",
      "Total number of tasks for KLIP processing is 1\n",
      "Closing threadpool\n",
      "Derotating Images...\n",
      "Writing Images to directory /Users/sbetti/Desktop/final_abaur/Kshort\n",
      "wavelength collapsing reduced data of shape (b, N, wv, y, x):(7, 240, 1, 250, 250)\n"
     ]
    },
    {
     "name": "stderr",
     "output_type": "stream",
     "text": [
      "/Users/sbetti/opt/anaconda3/lib/python3.7/site-packages/numpy/lib/nanfunctions.py:1116: RuntimeWarning: All-NaN slice encountered\n",
      "  overwrite_input=overwrite_input)\n",
      "/Users/sbetti/pyklip/pyklip/klip.py:47: RuntimeWarning: Mean of empty slice\n",
      "  return np.nanmean(data, axis=axis)\n"
     ]
    },
    {
     "name": "stdout",
     "output_type": "stream",
     "text": [
      "KLIP finished\n",
      "finished:   1.6876143177350362 min\n"
     ]
    }
   ],
   "source": [
    "# k band PSF\n",
    "path = '/Volumes/ARCTURUS/LMIRCam_Jan15'\n",
    "\n",
    "# make correlation matrix\n",
    "filt = 'Kshort'\n",
    "fils = np.sort(glob.glob(path + f'/6aligned2x2/HIP*/{filt}/single_CC_masked/Final*.fits'))\n",
    "\n",
    "savedir = f'/Users/sbetti/Desktop/final_abaur/{filt}/'\n",
    "save_suffix = 'CC_PSF'\n",
    "\n",
    "# make the correlation matrix.  After the first time, this line can be commented out. \n",
    "make_correlation_matrix(fils, filt, savedir, save_suffix=save_suffix)\n",
    "\n",
    "\n",
    "# KLIP\n",
    "corrmatrixfil = f'{savedir}corr_matrix_{filt}_{save_suffix}.fits'\n",
    "outputdir = f'/Users/sbetti/Desktop/final_abaur/{filt}/'\n",
    "datasetfil = None\n",
    "annuli = 1\n",
    "subsection = 1\n",
    "filesuffix = f'CC_IWA0_HIP22138'\n",
    "targetlist = np.sort(glob.glob(path + f'/6aligned2x2/HIP22138/{filt}/single_CC_masked/Final*.fits'))\n",
    "\n",
    "IWA = 0\n",
    "\n",
    "print(len(fils))\n",
    "\n",
    "run_KLIP(fils, filt, corrmatrixfil, outputdir, datasetfil=datasetfil, annuli=annuli, subsection=subsection, \n",
    "        filesuffix=filesuffix, targetlist=targetlist, IWA=IWA, mode='RDI')\n",
    "\n"
   ]
  },
  {
   "cell_type": "markdown",
   "metadata": {},
   "source": [
    "# L band PSF half 1 - half 2\n",
    "\n",
    "# manually split the PSF reference star frames into 2 folders before beginning."
   ]
  },
  {
   "cell_type": "code",
   "execution_count": 8,
   "metadata": {},
   "outputs": [
    {
     "name": "stdout",
     "output_type": "stream",
     "text": [
      "started at: 17:24:31.507263\n",
      "250 250\n",
      "starting Lprime\n",
      "starting to make array [ 3630 250 250 ]\n",
      "finished for loop. starting PSFLibrary\n",
      "[124.5 124.5]\n",
      "finished PSFLibrary.saving...\n",
      "77.42108761469522  min\n",
      "3630\n",
      "starting pyKLIP on AB-Aur Lprime\n",
      "making PSF library\n",
      "making dataset\n",
      "reading data, num files:  1531\n"
     ]
    },
    {
     "name": "stderr",
     "output_type": "stream",
     "text": [
      "/Users/sbetti/pyklip/pyklip/instruments/LMIRCam.py:478: RuntimeWarning: cdelt will be ignored since cd is present\n",
      "  w.wcs.cdelt = np.array([header['CDELT1'], header['CDELT2']])\n"
     ]
    },
    {
     "name": "stdout",
     "output_type": "stream",
     "text": [
      "The input datacubes are stored in a 3-D array with a shape of (1531, 250, 250). The temporal and spatial dimentions have been collapsed\n",
      "preparing PSF library with dataset\n",
      "starting KLIP\n",
      "output will save to /Users/sbetti/Desktop/final_abaur/Lprime/pyklip_Lprime_k150a1s1m1_CC_alignedcenter_HD39925_IWA0\n",
      "Begin align and scale images for each wavelength\n",
      "Wavelength 3.05 with index 0 has finished align and scale. Queuing for KLIP\n",
      "Total number of tasks for KLIP processing is 1\n",
      "Closing threadpool\n",
      "Derotating Images...\n",
      "Writing Images to directory /Users/sbetti/Desktop/final_abaur/Lprime\n",
      "wavelength collapsing reduced data of shape (b, N, wv, y, x):(7, 1531, 1, 250, 250)\n"
     ]
    },
    {
     "name": "stderr",
     "output_type": "stream",
     "text": [
      "/Users/sbetti/opt/anaconda3/lib/python3.7/site-packages/numpy/lib/nanfunctions.py:995: RuntimeWarning: All-NaN slice encountered\n",
      "  result = np.apply_along_axis(_nanmedian1d, axis, a, overwrite_input)\n",
      "/Users/sbetti/pyklip/pyklip/klip.py:47: RuntimeWarning: Mean of empty slice\n",
      "  return np.nanmean(data, axis=axis)\n"
     ]
    },
    {
     "name": "stdout",
     "output_type": "stream",
     "text": [
      "KLIP finished\n",
      "finished:   8.111117215951284 min\n"
     ]
    }
   ],
   "source": [
    "# L band \"PSF\"\n",
    "path = '/Users/sbetti/Documents/dissertation_datasets/LMIRCam_Feb13/140213'\n",
    "\n",
    "# make correlation matrix\n",
    "filt = 'Lprime'\n",
    "fils = np.sort(glob.glob(path + f'/6aligned2x2/HD39925/{filt}/single_CC_half*/Final*.fits'))\n",
    "\n",
    "savedir = f'/Users/sbetti/Desktop/final_abaur/{filt}/'\n",
    "save_suffix = 'CC_alignedcenter_ALLPSF'\n",
    "\n",
    "make_correlation_matrix(fils, filt, savedir, save_suffix=save_suffix)\n",
    "\n",
    "\n",
    "# KLIP\n",
    "corrmatrixfil = f'{savedir}corr_matrix_{filt}_{save_suffix}.fits'\n",
    "outputdir = f'/Users/sbetti/Desktop/final_abaur/{filt}/'\n",
    "datasetfil = None\n",
    "annuli = 1\n",
    "subsection = 1\n",
    "filesuffix = f'CC_IWA0_HD39925'\n",
    "targetlist = np.sort(glob.glob(path + f'/6aligned2x2/HD39925/{filt}/single_V2_half1/Final*.fits'))\n",
    "\n",
    "IWA = 0\n",
    "\n",
    "print(len(fils))\n",
    "\n",
    "run_KLIP(fils, filt, corrmatrixfil, outputdir, datasetfil=datasetfil, annuli=annuli, subsection=subsection, \n",
    "        filesuffix=filesuffix, targetlist=targetlist, IWA=IWA, mode='RDI')\n",
    "\n"
   ]
  }
 ],
 "metadata": {
  "kernelspec": {
   "display_name": "Python 3",
   "language": "python",
   "name": "python3"
  },
  "language_info": {
   "codemirror_mode": {
    "name": "ipython",
    "version": 3
   },
   "file_extension": ".py",
   "mimetype": "text/x-python",
   "name": "python",
   "nbconvert_exporter": "python",
   "pygments_lexer": "ipython3",
   "version": "3.8.5"
  }
 },
 "nbformat": 4,
 "nbformat_minor": 4
}
